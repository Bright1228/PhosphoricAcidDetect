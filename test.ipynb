{
 "cells": [
  {
   "cell_type": "code",
   "execution_count": 2,
   "id": "initial_id",
   "metadata": {
    "collapsed": true,
    "ExecuteTime": {
     "end_time": "2024-07-07T11:11:20.181795Z",
     "start_time": "2024-07-07T11:11:16.336131Z"
    }
   },
   "outputs": [
    {
     "name": "stdout",
     "output_type": "stream",
     "text": [
      "False\n"
     ]
    }
   ],
   "source": [
    "import transformers\n",
    "from transformers import BertConfig\n",
    "config = BertConfig()\n",
    "has_xla = hasattr(config,\"xla_device\")\n",
    "print(has_xla)"
   ]
  },
  {
   "cell_type": "code",
   "execution_count": 1,
   "outputs": [
    {
     "name": "stderr",
     "output_type": "stream",
     "text": [
      "wandb: Currently logged in as: sjb15298306261 (sjb15298306261-Nanjing University). Use `wandb login --relogin` to force relogin\n"
     ]
    },
    {
     "data": {
      "text/plain": "VBox(children=(Label(value='Waiting for wandb.init()...\\r'), FloatProgress(value=0.011288888888925108, max=1.0…",
      "application/vnd.jupyter.widget-view+json": {
       "version_major": 2,
       "version_minor": 0,
       "model_id": "d5c4105e43c2461296b189b664c6ea39"
      }
     },
     "metadata": {},
     "output_type": "display_data"
    },
    {
     "data": {
      "text/plain": "<IPython.core.display.HTML object>",
      "text/html": "wandb version 0.17.4 is available!  To upgrade, please run:\n $ pip install wandb --upgrade"
     },
     "metadata": {},
     "output_type": "display_data"
    },
    {
     "data": {
      "text/plain": "<IPython.core.display.HTML object>",
      "text/html": "Tracking run with wandb version 0.17.3"
     },
     "metadata": {},
     "output_type": "display_data"
    },
    {
     "data": {
      "text/plain": "<IPython.core.display.HTML object>",
      "text/html": "Run data is saved locally in <code>E:\\PhosphoricAcidDetect\\PhosphoricAcidDetect\\wandb\\run-20240707_180215-zcch35m1</code>"
     },
     "metadata": {},
     "output_type": "display_data"
    },
    {
     "data": {
      "text/plain": "<IPython.core.display.HTML object>",
      "text/html": "Syncing run <strong><a href='https://wandb.ai/sjb15298306261-Nanjing%20University/my-awesome-project/runs/zcch35m1' target=\"_blank\">denim-frost-1</a></strong> to <a href='https://wandb.ai/sjb15298306261-Nanjing%20University/my-awesome-project' target=\"_blank\">Weights & Biases</a> (<a href='https://wandb.me/run' target=\"_blank\">docs</a>)<br/>"
     },
     "metadata": {},
     "output_type": "display_data"
    },
    {
     "data": {
      "text/plain": "<IPython.core.display.HTML object>",
      "text/html": " View project at <a href='https://wandb.ai/sjb15298306261-Nanjing%20University/my-awesome-project' target=\"_blank\">https://wandb.ai/sjb15298306261-Nanjing%20University/my-awesome-project</a>"
     },
     "metadata": {},
     "output_type": "display_data"
    },
    {
     "data": {
      "text/plain": "<IPython.core.display.HTML object>",
      "text/html": " View run at <a href='https://wandb.ai/sjb15298306261-Nanjing%20University/my-awesome-project/runs/zcch35m1' target=\"_blank\">https://wandb.ai/sjb15298306261-Nanjing%20University/my-awesome-project/runs/zcch35m1</a>"
     },
     "metadata": {},
     "output_type": "display_data"
    },
    {
     "data": {
      "text/plain": "VBox(children=(Label(value='0.006 MB of 0.016 MB uploaded\\r'), FloatProgress(value=0.37528272342399815, max=1.…",
      "application/vnd.jupyter.widget-view+json": {
       "version_major": 2,
       "version_minor": 0,
       "model_id": "e8852313074048ecb00df4d1b4d7603e"
      }
     },
     "metadata": {},
     "output_type": "display_data"
    },
    {
     "data": {
      "text/plain": "<IPython.core.display.HTML object>",
      "text/html": "<style>\n    table.wandb td:nth-child(1) { padding: 0 10px; text-align: left ; width: auto;} td:nth-child(2) {text-align: left ; width: 100%}\n    .wandb-row { display: flex; flex-direction: row; flex-wrap: wrap; justify-content: flex-start; width: 100% }\n    .wandb-col { display: flex; flex-direction: column; flex-basis: 100%; flex: 1; padding: 10px; }\n    </style>\n<div class=\"wandb-row\"><div class=\"wandb-col\"><h3>Run history:</h3><br/><table class=\"wandb\"><tr><td>acc</td><td>▁▆▇▆██▇█</td></tr><tr><td>loss</td><td>▆█▅▂▃▃▁▂</td></tr></table><br/></div><div class=\"wandb-col\"><h3>Run summary:</h3><br/><table class=\"wandb\"><tr><td>acc</td><td>0.77075</td></tr><tr><td>loss</td><td>0.25984</td></tr></table><br/></div></div>"
     },
     "metadata": {},
     "output_type": "display_data"
    },
    {
     "data": {
      "text/plain": "<IPython.core.display.HTML object>",
      "text/html": " View run <strong style=\"color:#cdcd00\">denim-frost-1</strong> at: <a href='https://wandb.ai/sjb15298306261-Nanjing%20University/my-awesome-project/runs/zcch35m1' target=\"_blank\">https://wandb.ai/sjb15298306261-Nanjing%20University/my-awesome-project/runs/zcch35m1</a><br/> View project at: <a href='https://wandb.ai/sjb15298306261-Nanjing%20University/my-awesome-project' target=\"_blank\">https://wandb.ai/sjb15298306261-Nanjing%20University/my-awesome-project</a><br/>Synced 5 W&B file(s), 0 media file(s), 2 artifact file(s) and 0 other file(s)"
     },
     "metadata": {},
     "output_type": "display_data"
    },
    {
     "data": {
      "text/plain": "<IPython.core.display.HTML object>",
      "text/html": "Find logs at: <code>.\\wandb\\run-20240707_180215-zcch35m1\\logs</code>"
     },
     "metadata": {},
     "output_type": "display_data"
    },
    {
     "data": {
      "text/plain": "<IPython.core.display.HTML object>",
      "text/html": "The new W&B backend becomes opt-out in version 0.18.0; try it out with `wandb.require(\"core\")`! See https://wandb.me/wandb-core for more information."
     },
     "metadata": {},
     "output_type": "display_data"
    }
   ],
   "source": [
    "import wandb\n",
    "import random\n",
    "\n",
    "# start a new wandb run to track this script\n",
    "wandb.init(\n",
    "    # set the wandb project where this run will be logged\n",
    "    project=\"my-awesome-project\",\n",
    "\n",
    "    # track hyperparameters and run metadata\n",
    "    config={\n",
    "    \"learning_rate\": 0.02,\n",
    "    \"architecture\": \"CNN\",\n",
    "    \"dataset\": \"CIFAR-100\",\n",
    "    \"epochs\": 10,\n",
    "    }\n",
    ")\n",
    "\n",
    "# simulate training\n",
    "epochs = 10\n",
    "offset = random.random() / 5\n",
    "for epoch in range(2, epochs):\n",
    "    acc = 1 - 2 ** -epoch - random.random() / epoch - offset\n",
    "    loss = 2 ** -epoch + random.random() / epoch + offset\n",
    "\n",
    "    # log metrics to wandb\n",
    "    wandb.log({\"acc\": acc, \"loss\": loss})\n",
    "\n",
    "# [optional] finish the wandb run, necessary in notebooks\n",
    "wandb.finish()"
   ],
   "metadata": {
    "collapsed": false,
    "ExecuteTime": {
     "end_time": "2024-07-07T10:02:40.616288900Z",
     "start_time": "2024-07-07T10:02:09.898065800Z"
    }
   },
   "id": "2c0a3f386f2d430f"
  },
  {
   "cell_type": "code",
   "execution_count": 3,
   "outputs": [
    {
     "name": "stdout",
     "output_type": "stream",
     "text": [
      "CUDA可用，共有 1 个GPU设备可用。\n",
      "当前使用的GPU设备索引：0\n",
      "当前使用的GPU设备名称：NVIDIA GeForce RTX 3060 Laptop GPU\n",
      "GPU显存总量：6.00 GB\n",
      "已使用的GPU显存：0.00 GB\n",
      "剩余GPU显存：6.00 GB\n",
      "PyTorch版本：2.3.1+cu118\n",
      "CUDA版本：11.8\n"
     ]
    }
   ],
   "source": [
    "import torch\n",
    "\n",
    "# 检查CUDA是否可用\n",
    "cuda_available = torch.cuda.is_available()\n",
    "\n",
    "if cuda_available:\n",
    "    # 获取GPU设备数量\n",
    "    num_gpu = torch.cuda.device_count()\n",
    "\n",
    "    # 获取当前使用的GPU索引\n",
    "    current_gpu_index = torch.cuda.current_device()\n",
    "\n",
    "    # 获取当前GPU的名称\n",
    "    current_gpu_name = torch.cuda.get_device_name(current_gpu_index)\n",
    "\n",
    "    # 获取GPU显存的总量和已使用量\n",
    "    total_memory = torch.cuda.get_device_properties(current_gpu_index).total_memory / (1024 ** 3)  # 显存总量(GB)\n",
    "    used_memory = torch.cuda.memory_allocated(current_gpu_index) / (1024 ** 3)  # 已使用显存(GB)\n",
    "    free_memory = total_memory - used_memory  # 剩余显存(GB)\n",
    "\n",
    "    print(f\"CUDA可用，共有 {num_gpu} 个GPU设备可用。\")\n",
    "    print(f\"当前使用的GPU设备索引：{current_gpu_index}\")\n",
    "    print(f\"当前使用的GPU设备名称：{current_gpu_name}\")\n",
    "    print(f\"GPU显存总量：{total_memory:.2f} GB\")\n",
    "    print(f\"已使用的GPU显存：{used_memory:.2f} GB\")\n",
    "    print(f\"剩余GPU显存：{free_memory:.2f} GB\")\n",
    "else:\n",
    "    print(\"CUDA不可用。\")\n",
    "\n",
    "# 检查PyTorch版本\n",
    "print(f\"PyTorch版本：{torch.__version__}\")\n",
    "\n",
    "import torch\n",
    "print(f\"CUDA版本：{torch.version.cuda}\")\n",
    "\n",
    "\n"
   ],
   "metadata": {
    "collapsed": false,
    "ExecuteTime": {
     "end_time": "2024-07-07T12:14:04.589865500Z",
     "start_time": "2024-07-07T12:14:04.460817100Z"
    }
   },
   "id": "5b00703b55772293"
  },
  {
   "cell_type": "code",
   "execution_count": 2,
   "outputs": [
    {
     "name": "stdout",
     "output_type": "stream",
     "text": [
      "Identifiers: >P35583|EUKARYA|NO_SP|0\n",
      "Sequences: MLGAVKMEGHEPSDWSSYYAEPEGYSSVSNMNAGLGMNGMNTYMSMSAAAMGGGSGNMSAGSMNMSSYVG\n",
      "Labels: IIIIIIIIIIIIIIIIIIIIIIIIIIIIIIIIIIIIIIIIIIIIIIIIIIIIIIIIIIIIIIIIIIIIII\n",
      "Token_ids_split ['I', 'I', 'I', 'I', 'I', 'I', 'I', 'I', 'I', 'I', 'I', 'I', 'I', 'I', 'I', 'I', 'I', 'I', 'I', 'I', 'I', 'I', 'I', 'I', 'I', 'I', 'I', 'I', 'I', 'I', 'I', 'I', 'I', 'I', 'I', 'I', 'I', 'I', 'I', 'I', 'I', 'I', 'I', 'I', 'I', 'I', 'I', 'I', 'I', 'I', 'I', 'I', 'I', 'I', 'I', 'I', 'I', 'I', 'I', 'I', 'I', 'I', 'I', 'I', 'I', 'I', 'I', 'I', 'I', 'I']\n",
      "Token IDs: [1 1 1 1 1 1 1 1 1 1 1 1 1 1 1 1 1 1 1 1 1 1 1 1 1 1 1 1 1 1 1 1 1 1 1 1 1\n",
      " 1 1 1 1 1 1 1 1 1 1 1 1 1 1 1 1 1 1 1 1 1 1 1 1 1 1 1 1 1 1 1 1 1]\n",
      "label_ids: [1 1 1 1 1 1 1 1 1 1 1 1 1 1 1 1 1 1 1 1 1 1 1 1 1 1 1 1 1 1 1 1 1 1 1 1 1\n",
      " 1 1 1 1 1 1 1 1 1 1 1 1 1 1 1 1 1 1 1 1 1 1 1 1 1 1 1 1 1 1 1 1 1]\n",
      "Input Mask: [1 1 1 1 1 1 1 1 1 1 1 1 1 1 1 1 1 1 1 1 1 1 1 1 1 1 1 1 1 1 1 1 1 1 1 1 1\n",
      " 1 1 1 1 1 1 1 1 1 1 1 1 1 1 1 1 1 1 1 1 1 1 1 1 1 1 1 1 1 1 1 1 1]\n"
     ]
    }
   ],
   "source": [
    "# 必要的导入\n",
    "import numpy as np\n",
    "from typing import List\n",
    "\n",
    "PHOSPHO_VOCAB = [\n",
    "    \"0\",  # 未磷酸化\n",
    "    \"1\",  # 磷酸化\n",
    "]\n",
    "SIGNALP_VOCAB = [\n",
    "    \"S\",\n",
    "    \"I\",\n",
    "    \"M\",\n",
    "    \"O\",\n",
    "    \"T\",\n",
    "    \"L\",\n",
    "]\n",
    "# 定义Tokenizer类\n",
    "class Tokenizer:\n",
    "    def __init__(self, labels: List[str] = SIGNALP_VOCAB):\n",
    "        # build mapping\n",
    "        # token_ids与字母表一一对应，即0-0,1-1\n",
    "        token_ids = list(range(len(labels)))\n",
    "        # 将上面的token_ids与标签建立映射\n",
    "        self.vocab = dict(zip(labels, token_ids))\n",
    "\n",
    "    def tokenize(self, text: str) -> List[str]:\n",
    "        return [x for x in text]\n",
    "\n",
    "    def convert_token_to_id(self, token: str) -> int:\n",
    "        try:\n",
    "            return self.vocab[token]\n",
    "        except KeyError:\n",
    "            raise KeyError(f\"Unrecognized token: '{token}'\")\n",
    "\n",
    "    def convert_tokens_to_ids(self, tokens: List[str]) -> List[int]:\n",
    "        return [self.convert_token_to_id(token) for token in tokens]\n",
    "    \n",
    "    def splitline_fasta(self, data):\n",
    "        lines = data.split('\\n')\n",
    "        identifiers = lines[::3]\n",
    "        # 第二行是蛋白质序列\n",
    "        sequences = lines[1::3]\n",
    "        # 第三行是标签\n",
    "        labels = lines[2::3]\n",
    "        return identifiers, sequences, labels\n",
    "    \n",
    "    def sequence_to_token_ids(self, sequence) -> List[int]:\n",
    "        tokens = self.tokenize(labels)\n",
    "        ids = self.convert_tokens_to_ids(tokens)\n",
    "        return ids\n",
    "\n",
    "# 创建Tokenizer实例\n",
    "tokenizer = Tokenizer()\n",
    "\n",
    "# 定义输入数据\n",
    "item = \"010110\"  # 这是一个由0和1组成的字符串\n",
    "testdata = \"\"\">P35583|EUKARYA|NO_SP|0\n",
    "MLGAVKMEGHEPSDWSSYYAEPEGYSSVSNMNAGLGMNGMNTYMSMSAAAMGGGSGNMSAGSMNMSSYVG\n",
    "IIIIIIIIIIIIIIIIIIIIIIIIIIIIIIIIIIIIIIIIIIIIIIIIIIIIIIIIIIIIIIIIIIIIII\"\"\"\n",
    "# 处理item，生成token_ids\n",
    "\n",
    "test_tuple = tokenizer.splitline_fasta(testdata)\n",
    "\n",
    "identifiers = test_tuple[0][0]  # 这里获取第一个标识符\n",
    "sequences = test_tuple[1][0]    # 这里获取第一个序列\n",
    "labels = test_tuple[2][0]       # 这里获取第一个标签\n",
    "\n",
    "print(\"Identifiers:\", identifiers)\n",
    "print(\"Sequences:\", sequences)\n",
    "print(\"Labels:\", labels)\n",
    "\n",
    "token_ids = tokenizer.tokenize(labels)\n",
    "print(\"Token_ids_split\",token_ids)\n",
    "token_ids = tokenizer.convert_tokens_to_ids(token_ids)\n",
    "\n",
    "label_ids = tokenizer.sequence_to_token_ids(labels)\n",
    "\n",
    "# 生成与token_ids相同形状的输入掩码，全为1\n",
    "input_mask = np.ones_like(token_ids)\n",
    "\n",
    "# 构建返回的元组\n",
    "return_tuple = (\n",
    "            np.array(token_ids),\n",
    "            np.array(label_ids),\n",
    "            np.array(input_mask),\n",
    "        )\n",
    "\n",
    "# 打印结果\n",
    "print(\"Token IDs:\", return_tuple[0])\n",
    "print(\"label_ids:\", return_tuple[1])\n",
    "print(\"Input Mask:\", return_tuple[2])\n",
    "\n"
   ],
   "metadata": {
    "collapsed": false,
    "ExecuteTime": {
     "end_time": "2024-07-21T01:44:26.544858700Z",
     "start_time": "2024-07-21T01:44:26.518588Z"
    }
   },
   "id": "d4ec95587b2d3b63"
  },
  {
   "cell_type": "code",
   "execution_count": null,
   "outputs": [],
   "source": [],
   "metadata": {
    "collapsed": false
   },
   "id": "2bbc736bc80281ee"
  }
 ],
 "metadata": {
  "kernelspec": {
   "display_name": "Python 3",
   "language": "python",
   "name": "python3"
  },
  "language_info": {
   "codemirror_mode": {
    "name": "ipython",
    "version": 2
   },
   "file_extension": ".py",
   "mimetype": "text/x-python",
   "name": "python",
   "nbconvert_exporter": "python",
   "pygments_lexer": "ipython2",
   "version": "2.7.6"
  }
 },
 "nbformat": 4,
 "nbformat_minor": 5
}
