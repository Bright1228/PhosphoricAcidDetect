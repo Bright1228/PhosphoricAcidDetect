{
 "cells": [
  {
   "cell_type": "code",
   "execution_count": 2,
   "id": "initial_id",
   "metadata": {
    "collapsed": true,
    "ExecuteTime": {
     "end_time": "2024-07-07T11:11:20.181795Z",
     "start_time": "2024-07-07T11:11:16.336131Z"
    }
   },
   "outputs": [
    {
     "name": "stdout",
     "output_type": "stream",
     "text": [
      "False\n"
     ]
    }
   ],
   "source": [
    "import transformers\n",
    "from transformers import BertConfig\n",
    "config = BertConfig()\n",
    "has_xla = hasattr(config,\"xla_device\")\n",
    "print(has_xla)"
   ]
  },
  {
   "cell_type": "code",
   "execution_count": 1,
   "outputs": [
    {
     "name": "stderr",
     "output_type": "stream",
     "text": [
      "wandb: Currently logged in as: sjb15298306261 (sjb15298306261-Nanjing University). Use `wandb login --relogin` to force relogin\n"
     ]
    },
    {
     "data": {
      "text/plain": "VBox(children=(Label(value='Waiting for wandb.init()...\\r'), FloatProgress(value=0.011288888888925108, max=1.0…",
      "application/vnd.jupyter.widget-view+json": {
       "version_major": 2,
       "version_minor": 0,
       "model_id": "d5c4105e43c2461296b189b664c6ea39"
      }
     },
     "metadata": {},
     "output_type": "display_data"
    },
    {
     "data": {
      "text/plain": "<IPython.core.display.HTML object>",
      "text/html": "wandb version 0.17.4 is available!  To upgrade, please run:\n $ pip install wandb --upgrade"
     },
     "metadata": {},
     "output_type": "display_data"
    },
    {
     "data": {
      "text/plain": "<IPython.core.display.HTML object>",
      "text/html": "Tracking run with wandb version 0.17.3"
     },
     "metadata": {},
     "output_type": "display_data"
    },
    {
     "data": {
      "text/plain": "<IPython.core.display.HTML object>",
      "text/html": "Run data is saved locally in <code>E:\\PhosphoricAcidDetect\\PhosphoricAcidDetect\\wandb\\run-20240707_180215-zcch35m1</code>"
     },
     "metadata": {},
     "output_type": "display_data"
    },
    {
     "data": {
      "text/plain": "<IPython.core.display.HTML object>",
      "text/html": "Syncing run <strong><a href='https://wandb.ai/sjb15298306261-Nanjing%20University/my-awesome-project/runs/zcch35m1' target=\"_blank\">denim-frost-1</a></strong> to <a href='https://wandb.ai/sjb15298306261-Nanjing%20University/my-awesome-project' target=\"_blank\">Weights & Biases</a> (<a href='https://wandb.me/run' target=\"_blank\">docs</a>)<br/>"
     },
     "metadata": {},
     "output_type": "display_data"
    },
    {
     "data": {
      "text/plain": "<IPython.core.display.HTML object>",
      "text/html": " View project at <a href='https://wandb.ai/sjb15298306261-Nanjing%20University/my-awesome-project' target=\"_blank\">https://wandb.ai/sjb15298306261-Nanjing%20University/my-awesome-project</a>"
     },
     "metadata": {},
     "output_type": "display_data"
    },
    {
     "data": {
      "text/plain": "<IPython.core.display.HTML object>",
      "text/html": " View run at <a href='https://wandb.ai/sjb15298306261-Nanjing%20University/my-awesome-project/runs/zcch35m1' target=\"_blank\">https://wandb.ai/sjb15298306261-Nanjing%20University/my-awesome-project/runs/zcch35m1</a>"
     },
     "metadata": {},
     "output_type": "display_data"
    },
    {
     "data": {
      "text/plain": "VBox(children=(Label(value='0.006 MB of 0.016 MB uploaded\\r'), FloatProgress(value=0.37528272342399815, max=1.…",
      "application/vnd.jupyter.widget-view+json": {
       "version_major": 2,
       "version_minor": 0,
       "model_id": "e8852313074048ecb00df4d1b4d7603e"
      }
     },
     "metadata": {},
     "output_type": "display_data"
    },
    {
     "data": {
      "text/plain": "<IPython.core.display.HTML object>",
      "text/html": "<style>\n    table.wandb td:nth-child(1) { padding: 0 10px; text-align: left ; width: auto;} td:nth-child(2) {text-align: left ; width: 100%}\n    .wandb-row { display: flex; flex-direction: row; flex-wrap: wrap; justify-content: flex-start; width: 100% }\n    .wandb-col { display: flex; flex-direction: column; flex-basis: 100%; flex: 1; padding: 10px; }\n    </style>\n<div class=\"wandb-row\"><div class=\"wandb-col\"><h3>Run history:</h3><br/><table class=\"wandb\"><tr><td>acc</td><td>▁▆▇▆██▇█</td></tr><tr><td>loss</td><td>▆█▅▂▃▃▁▂</td></tr></table><br/></div><div class=\"wandb-col\"><h3>Run summary:</h3><br/><table class=\"wandb\"><tr><td>acc</td><td>0.77075</td></tr><tr><td>loss</td><td>0.25984</td></tr></table><br/></div></div>"
     },
     "metadata": {},
     "output_type": "display_data"
    },
    {
     "data": {
      "text/plain": "<IPython.core.display.HTML object>",
      "text/html": " View run <strong style=\"color:#cdcd00\">denim-frost-1</strong> at: <a href='https://wandb.ai/sjb15298306261-Nanjing%20University/my-awesome-project/runs/zcch35m1' target=\"_blank\">https://wandb.ai/sjb15298306261-Nanjing%20University/my-awesome-project/runs/zcch35m1</a><br/> View project at: <a href='https://wandb.ai/sjb15298306261-Nanjing%20University/my-awesome-project' target=\"_blank\">https://wandb.ai/sjb15298306261-Nanjing%20University/my-awesome-project</a><br/>Synced 5 W&B file(s), 0 media file(s), 2 artifact file(s) and 0 other file(s)"
     },
     "metadata": {},
     "output_type": "display_data"
    },
    {
     "data": {
      "text/plain": "<IPython.core.display.HTML object>",
      "text/html": "Find logs at: <code>.\\wandb\\run-20240707_180215-zcch35m1\\logs</code>"
     },
     "metadata": {},
     "output_type": "display_data"
    },
    {
     "data": {
      "text/plain": "<IPython.core.display.HTML object>",
      "text/html": "The new W&B backend becomes opt-out in version 0.18.0; try it out with `wandb.require(\"core\")`! See https://wandb.me/wandb-core for more information."
     },
     "metadata": {},
     "output_type": "display_data"
    }
   ],
   "source": [
    "import wandb\n",
    "import random\n",
    "\n",
    "# start a new wandb run to track this script\n",
    "wandb.init(\n",
    "    # set the wandb project where this run will be logged\n",
    "    project=\"my-awesome-project\",\n",
    "\n",
    "    # track hyperparameters and run metadata\n",
    "    config={\n",
    "    \"learning_rate\": 0.02,\n",
    "    \"architecture\": \"CNN\",\n",
    "    \"dataset\": \"CIFAR-100\",\n",
    "    \"epochs\": 10,\n",
    "    }\n",
    ")\n",
    "\n",
    "# simulate training\n",
    "epochs = 10\n",
    "offset = random.random() / 5\n",
    "for epoch in range(2, epochs):\n",
    "    acc = 1 - 2 ** -epoch - random.random() / epoch - offset\n",
    "    loss = 2 ** -epoch + random.random() / epoch + offset\n",
    "\n",
    "    # log metrics to wandb\n",
    "    wandb.log({\"acc\": acc, \"loss\": loss})\n",
    "\n",
    "# [optional] finish the wandb run, necessary in notebooks\n",
    "wandb.finish()"
   ],
   "metadata": {
    "collapsed": false,
    "ExecuteTime": {
     "end_time": "2024-07-07T10:02:40.616288900Z",
     "start_time": "2024-07-07T10:02:09.898065800Z"
    }
   },
   "id": "2c0a3f386f2d430f"
  },
  {
   "cell_type": "code",
   "execution_count": 3,
   "outputs": [
    {
     "name": "stdout",
     "output_type": "stream",
     "text": [
      "CUDA可用，共有 1 个GPU设备可用。\n",
      "当前使用的GPU设备索引：0\n",
      "当前使用的GPU设备名称：NVIDIA GeForce RTX 3060 Laptop GPU\n",
      "GPU显存总量：6.00 GB\n",
      "已使用的GPU显存：0.00 GB\n",
      "剩余GPU显存：6.00 GB\n",
      "PyTorch版本：2.3.1+cu118\n",
      "CUDA版本：11.8\n"
     ]
    }
   ],
   "source": [
    "import torch\n",
    "\n",
    "# 检查CUDA是否可用\n",
    "cuda_available = torch.cuda.is_available()\n",
    "\n",
    "if cuda_available:\n",
    "    # 获取GPU设备数量\n",
    "    num_gpu = torch.cuda.device_count()\n",
    "\n",
    "    # 获取当前使用的GPU索引\n",
    "    current_gpu_index = torch.cuda.current_device()\n",
    "\n",
    "    # 获取当前GPU的名称\n",
    "    current_gpu_name = torch.cuda.get_device_name(current_gpu_index)\n",
    "\n",
    "    # 获取GPU显存的总量和已使用量\n",
    "    total_memory = torch.cuda.get_device_properties(current_gpu_index).total_memory / (1024 ** 3)  # 显存总量(GB)\n",
    "    used_memory = torch.cuda.memory_allocated(current_gpu_index) / (1024 ** 3)  # 已使用显存(GB)\n",
    "    free_memory = total_memory - used_memory  # 剩余显存(GB)\n",
    "\n",
    "    print(f\"CUDA可用，共有 {num_gpu} 个GPU设备可用。\")\n",
    "    print(f\"当前使用的GPU设备索引：{current_gpu_index}\")\n",
    "    print(f\"当前使用的GPU设备名称：{current_gpu_name}\")\n",
    "    print(f\"GPU显存总量：{total_memory:.2f} GB\")\n",
    "    print(f\"已使用的GPU显存：{used_memory:.2f} GB\")\n",
    "    print(f\"剩余GPU显存：{free_memory:.2f} GB\")\n",
    "else:\n",
    "    print(\"CUDA不可用。\")\n",
    "\n",
    "# 检查PyTorch版本\n",
    "print(f\"PyTorch版本：{torch.__version__}\")\n",
    "\n",
    "import torch\n",
    "print(f\"CUDA版本：{torch.version.cuda}\")\n",
    "\n",
    "\n"
   ],
   "metadata": {
    "collapsed": false,
    "ExecuteTime": {
     "end_time": "2024-07-07T12:14:04.589865500Z",
     "start_time": "2024-07-07T12:14:04.460817100Z"
    }
   },
   "id": "5b00703b55772293"
  },
  {
   "cell_type": "code",
   "execution_count": 2,
   "outputs": [
    {
     "name": "stdout",
     "output_type": "stream",
     "text": [
      "Identifiers: >P35583|EUKARYA|NO_SP|0\n",
      "Sequences: MLGAVKMEGHEPSDWSSYYAEPEGYSSVSNMNAGLGMNGMNTYMSMSAAAMGGGSGNMSAGSMNMSSYVG\n",
      "Labels: IIIIIIIIIIIIIIIIIIIIIIIIIIIIIIIIIIIIIIIIIIIIIIIIIIIIIIIIIIIIIIIIIIIIII\n",
      "Token_ids_split ['I', 'I', 'I', 'I', 'I', 'I', 'I', 'I', 'I', 'I', 'I', 'I', 'I', 'I', 'I', 'I', 'I', 'I', 'I', 'I', 'I', 'I', 'I', 'I', 'I', 'I', 'I', 'I', 'I', 'I', 'I', 'I', 'I', 'I', 'I', 'I', 'I', 'I', 'I', 'I', 'I', 'I', 'I', 'I', 'I', 'I', 'I', 'I', 'I', 'I', 'I', 'I', 'I', 'I', 'I', 'I', 'I', 'I', 'I', 'I', 'I', 'I', 'I', 'I', 'I', 'I', 'I', 'I', 'I', 'I']\n",
      "Token IDs: [1 1 1 1 1 1 1 1 1 1 1 1 1 1 1 1 1 1 1 1 1 1 1 1 1 1 1 1 1 1 1 1 1 1 1 1 1\n",
      " 1 1 1 1 1 1 1 1 1 1 1 1 1 1 1 1 1 1 1 1 1 1 1 1 1 1 1 1 1 1 1 1 1]\n",
      "label_ids: [1 1 1 1 1 1 1 1 1 1 1 1 1 1 1 1 1 1 1 1 1 1 1 1 1 1 1 1 1 1 1 1 1 1 1 1 1\n",
      " 1 1 1 1 1 1 1 1 1 1 1 1 1 1 1 1 1 1 1 1 1 1 1 1 1 1 1 1 1 1 1 1 1]\n",
      "Input Mask: [1 1 1 1 1 1 1 1 1 1 1 1 1 1 1 1 1 1 1 1 1 1 1 1 1 1 1 1 1 1 1 1 1 1 1 1 1\n",
      " 1 1 1 1 1 1 1 1 1 1 1 1 1 1 1 1 1 1 1 1 1 1 1 1 1 1 1 1 1 1 1 1 1]\n"
     ]
    }
   ],
   "source": [
    "# 必要的导入\n",
    "import numpy as np\n",
    "from typing import List\n",
    "\n",
    "PHOSPHO_VOCAB = [\n",
    "    \"0\",  # 未磷酸化\n",
    "    \"1\",  # 磷酸化\n",
    "]\n",
    "SIGNALP_VOCAB = [\n",
    "    \"S\",\n",
    "    \"I\",\n",
    "    \"M\",\n",
    "    \"O\",\n",
    "    \"T\",\n",
    "    \"L\",\n",
    "]\n",
    "# 定义Tokenizer类\n",
    "class Tokenizer:\n",
    "    def __init__(self, labels: List[str] = SIGNALP_VOCAB):\n",
    "        # build mapping\n",
    "        # token_ids与字母表一一对应，即0-0,1-1\n",
    "        token_ids = list(range(len(labels)))\n",
    "        # 将上面的token_ids与标签建立映射\n",
    "        self.vocab = dict(zip(labels, token_ids))\n",
    "\n",
    "    def tokenize(self, text: str) -> List[str]:\n",
    "        return [x for x in text]\n",
    "\n",
    "    def convert_token_to_id(self, token: str) -> int:\n",
    "        try:\n",
    "            return self.vocab[token]\n",
    "        except KeyError:\n",
    "            raise KeyError(f\"Unrecognized token: '{token}'\")\n",
    "\n",
    "    def convert_tokens_to_ids(self, tokens: List[str]) -> List[int]:\n",
    "        return [self.convert_token_to_id(token) for token in tokens]\n",
    "    \n",
    "    def splitline_fasta(self, data):\n",
    "        lines = data.split('\\n')\n",
    "        identifiers = lines[::3]\n",
    "        # 第二行是蛋白质序列\n",
    "        sequences = lines[1::3]\n",
    "        # 第三行是标签\n",
    "        labels = lines[2::3]\n",
    "        return identifiers, sequences, labels\n",
    "    \n",
    "    def sequence_to_token_ids(self, sequence) -> List[int]:\n",
    "        tokens = self.tokenize(labels)\n",
    "        ids = self.convert_tokens_to_ids(tokens)\n",
    "        return ids\n",
    "\n",
    "# 创建Tokenizer实例\n",
    "tokenizer = Tokenizer()\n",
    "\n",
    "# 定义输入数据\n",
    "item = \"010110\"  # 这是一个由0和1组成的字符串\n",
    "testdata = \"\"\">P35583|EUKARYA|NO_SP|0\n",
    "MLGAVKMEGHEPSDWSSYYAEPEGYSSVSNMNAGLGMNGMNTYMSMSAAAMGGGSGNMSAGSMNMSSYVG\n",
    "IIIIIIIIIIIIIIIIIIIIIIIIIIIIIIIIIIIIIIIIIIIIIIIIIIIIIIIIIIIIIIIIIIIIII\"\"\"\n",
    "# 处理item，生成token_ids\n",
    "\n",
    "test_tuple = tokenizer.splitline_fasta(testdata)\n",
    "\n",
    "identifiers = test_tuple[0][0]  # 这里获取第一个标识符\n",
    "sequences = test_tuple[1][0]    # 这里获取第一个序列\n",
    "labels = test_tuple[2][0]       # 这里获取第一个标签\n",
    "\n",
    "print(\"Identifiers:\", identifiers)\n",
    "print(\"Sequences:\", sequences)\n",
    "print(\"Labels:\", labels)\n",
    "\n",
    "token_ids = tokenizer.tokenize(labels)\n",
    "print(\"Token_ids_split\",token_ids)\n",
    "token_ids = tokenizer.convert_tokens_to_ids(token_ids)\n",
    "\n",
    "label_ids = tokenizer.sequence_to_token_ids(labels)\n",
    "\n",
    "# 生成与token_ids相同形状的输入掩码，全为1\n",
    "input_mask = np.ones_like(token_ids)\n",
    "\n",
    "# 构建返回的元组\n",
    "return_tuple = (\n",
    "            np.array(token_ids),\n",
    "            np.array(label_ids),\n",
    "            np.array(input_mask),\n",
    "        )\n",
    "\n",
    "# 打印结果\n",
    "print(\"Token IDs:\", return_tuple[0])\n",
    "print(\"label_ids:\", return_tuple[1])\n",
    "print(\"Input Mask:\", return_tuple[2])\n",
    "\n"
   ],
   "metadata": {
    "collapsed": false,
    "ExecuteTime": {
     "end_time": "2024-07-21T01:44:26.544858700Z",
     "start_time": "2024-07-21T01:44:26.518588Z"
    }
   },
   "id": "d4ec95587b2d3b63"
  },
  {
   "cell_type": "code",
   "execution_count": 3,
   "outputs": [
    {
     "name": "stdout",
     "output_type": "stream",
     "text": [
      "最初的零矩阵为：\n",
      "[[0. 0.]\n",
      " [0. 0.]\n",
      " [0. 0.]\n",
      " [0. 0.]\n",
      " [0. 0.]\n",
      " [0. 0.]\n",
      " [0. 0.]\n",
      " [0. 0.]\n",
      " [0. 0.]\n",
      " [0. 0.]]\n",
      "标签矩阵：\n",
      "[[1. 0.]\n",
      " [1. 0.]\n",
      " [1. 0.]\n",
      " [0. 1.]\n",
      " [1. 0.]\n",
      " [1. 0.]\n",
      " [1. 0.]\n",
      " [1. 0.]\n",
      " [1. 0.]\n",
      " [1. 0.]]\n"
     ]
    }
   ],
   "source": [
    "# 导入必要的库\n",
    "import numpy as np\n",
    "from typing import Dict, Tuple\n",
    "\n",
    "# 定义新的词汇表\n",
    "PHOSPHORYLATION_VOCAB = {\n",
    "    \"NON_PHOSPHORYLATED\": 0,\n",
    "    \"PHOSPHORYLATED\": 1,\n",
    "}\n",
    "\n",
    "# 定义 process_SP 函数\n",
    "def process_SP(\n",
    "    label_sequence: str,\n",
    "    aa_sequence: str,\n",
    "    vocab: Dict[str, int] = None,\n",
    ") -> np.ndarray:\n",
    "    \"\"\"Generate multi-state tag array from phosphorylation label string and sequence.\n",
    "    Inputs:\n",
    "        label_sequence: sequence of ground-truth label in phosphorylation format\n",
    "        aa_sequence: amino acid sequence, same length as label_sequence\n",
    "        vocab: dict that maps states to their index\n",
    "    Returns:\n",
    "        tag_matrix: zero matrix of shape (seq_len, vocab_values) with ones\n",
    "                    where the respective label is true\n",
    "    \"\"\"\n",
    "    if vocab is None:\n",
    "        vocab = PHOSPHORYLATION_VOCAB\n",
    "\n",
    "    vocab_size = len(set(vocab.values()))  # real vocab size, ignore duplicate mappings\n",
    "    tag_matrix = np.zeros((len(label_sequence), vocab_size))\n",
    "    print(\"最初的零矩阵为：\")\n",
    "    print(tag_matrix)\n",
    "\n",
    "    label_array = np.array([x for x in label_sequence])\n",
    "\n",
    "    phosphorylated_idx = np.where(label_array == \"1\")\n",
    "    non_phosphorylated_idx = np.where(label_array == \"0\")\n",
    "\n",
    "    tag_matrix[non_phosphorylated_idx, vocab[\"NON_PHOSPHORYLATED\"]] = 1\n",
    "    tag_matrix[phosphorylated_idx, vocab[\"PHOSPHORYLATED\"]] = 1\n",
    "\n",
    "    assert not any(\n",
    "        tag_matrix.sum(axis=1) == 0\n",
    "    ), f\"Processing failed. There are positions where no state was set active. \\n {aa_sequence}\"\n",
    "    \n",
    "    return tag_matrix\n",
    "\n",
    "# 测试代码\n",
    "label_sequence = \"0001000000\"\n",
    "aa_sequence = \"MEVGQANPLL\"\n",
    "vocab = PHOSPHORYLATION_VOCAB\n",
    "\n",
    "tag_matrix = process_SP(label_sequence, aa_sequence, vocab=vocab)\n",
    "print(\"标签矩阵：\")\n",
    "print(tag_matrix)\n"
   ],
   "metadata": {
    "collapsed": false,
    "ExecuteTime": {
     "end_time": "2024-07-24T03:34:20.281356Z",
     "start_time": "2024-07-24T03:34:20.261298600Z"
    }
   },
   "id": "2bbc736bc80281ee"
  },
  {
   "cell_type": "code",
   "execution_count": 5,
   "outputs": [
    {
     "name": "stdout",
     "output_type": "stream",
     "text": [
      "数据： tensor([[1, 2, 3],\n",
      "        [4, 5, 0]], dtype=torch.int32)\n",
      "目标： tensor([[ 0,  1,  0],\n",
      "        [ 1,  0, -1]], dtype=torch.int32)\n",
      "掩码： tensor([[1, 1, 1],\n",
      "        [1, 1, 0]], dtype=torch.int32)\n"
     ]
    }
   ],
   "source": [
    "import torch\n",
    "import numpy as np\n",
    "from typing import List, Any, Dict\n",
    "\n",
    "# 定义 pad_sequences 函数\n",
    "def pad_sequences(sequences, pad_value):\n",
    "    max_len = max(len(seq) for seq in sequences)\n",
    "    padded_seqs = np.full((len(sequences), max_len), pad_value)\n",
    "    for i, seq in enumerate(sequences):\n",
    "        padded_seqs[i, :len(seq)] = seq\n",
    "    return padded_seqs\n",
    "\n",
    "# 修改后的 collate_fn 函数\n",
    "def collate_fn(batch: List[Any]) -> Dict[str, torch.Tensor]:\n",
    "    # unpack the list of tuples\n",
    "    input_ids, label_ids, mask = tuple(zip(*batch))\n",
    "\n",
    "    data = torch.from_numpy(pad_sequences(input_ids, 0))\n",
    "\n",
    "    # ignore_index is -1\n",
    "    targets = pad_sequences(label_ids, -1)\n",
    "    targets = np.stack(targets)\n",
    "    targets = torch.from_numpy(targets)\n",
    "    mask = torch.from_numpy(pad_sequences(mask, 0))\n",
    "\n",
    "    return_tuple = (data, targets, mask)\n",
    "    \n",
    "\n",
    "\n",
    "    return return_tuple\n",
    "\n",
    "# 测试代码\n",
    "batch = [\n",
    "    (np.array([1, 2, 3]), np.array([0, 1, 0]), np.array([1, 1, 1])),\n",
    "    (np.array([4, 5]), np.array([1, 0]), np.array([1, 1])),\n",
    "]\n",
    "\n",
    "\n",
    "\n",
    "result = collate_fn(batch)\n",
    "print(\"数据：\", result[0])\n",
    "print(\"目标：\", result[1])\n",
    "print(\"掩码：\", result[2])\n",
    "if len(result) > 3:\n",
    "    print(\"样本权重：\", result[3])\n"
   ],
   "metadata": {
    "collapsed": false,
    "ExecuteTime": {
     "end_time": "2024-07-24T06:55:02.337310200Z",
     "start_time": "2024-07-24T06:55:02.273335400Z"
    }
   },
   "id": "b8408af6667d6288"
  },
  {
   "cell_type": "code",
   "execution_count": 7,
   "outputs": [
    {
     "name": "stdout",
     "output_type": "stream",
     "text": [
      "平均损失： 0.5\n"
     ]
    }
   ],
   "source": [
    "import torch\n",
    "import numpy as np\n",
    "from torch.utils.data import DataLoader\n",
    "\n",
    "def validate(model: torch.nn.Module, valid_data: DataLoader, args) -> float:\n",
    "    \"\"\"Run over the validation data. Average loss over the full set.\"\"\"\n",
    "    model.eval()\n",
    "\n",
    "    all_targets = []\n",
    "    all_probs = []\n",
    "    all_pos_preds = []\n",
    "    all_token_ids = []\n",
    "\n",
    "    total_loss = 0\n",
    "    for i, batch in enumerate(valid_data):\n",
    "        data, targets, input_mask, sample_weights = batch\n",
    "\n",
    "        data = data.to(device)\n",
    "        targets = targets.to(device)\n",
    "        input_mask = input_mask.to(device)\n",
    "        sample_weights = sample_weights.to(device) if args.use_sample_weights else None\n",
    "\n",
    "        with torch.no_grad():\n",
    "            loss, probs, pos_probs, pos_preds = model(\n",
    "                data,\n",
    "                targets=targets,\n",
    "                sample_weights=sample_weights,\n",
    "                input_mask=input_mask,\n",
    "            )\n",
    "\n",
    "        total_loss += loss.mean().item()\n",
    "        all_targets.append(targets.detach().cpu().numpy())\n",
    "        all_probs.append(probs.detach().cpu().numpy())\n",
    "        all_pos_preds.append(pos_preds.detach().cpu().numpy())\n",
    "        all_token_ids.append(data.detach().cpu().numpy())\n",
    "\n",
    "    all_targets = np.concatenate(all_targets)\n",
    "    all_probs = np.concatenate(all_probs)\n",
    "    all_pos_preds = np.concatenate(all_pos_preds)\n",
    "    all_token_ids = np.concatenate(all_token_ids)\n",
    "\n",
    "\n",
    "    return (total_loss / len(valid_data))\n",
    "\n",
    "# 示例测试代码\n",
    "class Args:\n",
    "    use_sample_weights = False\n",
    "    use_cs_tag = False\n",
    "\n",
    "args = Args()\n",
    "\n",
    "# 创建一个简单的模型和数据加载器进行测试\n",
    "class SimpleModel(torch.nn.Module):\n",
    "    def forward(self, data, targets=None, sample_weights=None, input_mask=None):\n",
    "        loss = torch.tensor(0.5)  # 示例损失\n",
    "        probs = torch.sigmoid(data)  # 示例概率\n",
    "        pos_probs = probs\n",
    "        pos_preds = (probs > 0.5).float()\n",
    "        return loss, probs, pos_probs, pos_preds\n",
    "\n",
    "model = SimpleModel()\n",
    "device = torch.device(\"cuda\" if torch.cuda.is_available() else \"cpu\")\n",
    "model.to(device)\n",
    "\n",
    "# 创建一些示例数据\n",
    "data = torch.randn(70, 10)  # 70 个样本，每个样本有 10 个特征\n",
    "targets = torch.randint(0, 2, (70, 10))  # 70 个标签，二分类\n",
    "input_mask = torch.ones_like(data)\n",
    "sample_weights = torch.ones(70)\n",
    "\n",
    "# 创建数据加载器\n",
    "dataset = torch.utils.data.TensorDataset(data, targets, input_mask, sample_weights)\n",
    "valid_data = DataLoader(dataset, batch_size=10)\n",
    "\n",
    "# 运行验证函数\n",
    "avg_loss= validate(model, valid_data, args)\n",
    "print(\"平均损失：\", avg_loss)\n",
    "\n"
   ],
   "metadata": {
    "collapsed": false,
    "ExecuteTime": {
     "end_time": "2024-07-24T07:19:50.259291Z",
     "start_time": "2024-07-24T07:19:50.212659900Z"
    }
   },
   "id": "9947e7a1e99311a6"
  },
  {
   "cell_type": "code",
   "execution_count": 9,
   "outputs": [
    {
     "name": "stdout",
     "output_type": "stream",
     "text": [
      "筛选后的标识符： ['Q8TF40|EUKARYA|NO_SP|0', 'P12345|ARCHAEA|1']\n",
      "筛选后的序列： ['MAPTLFQKLFSKRTGLGAPGRDARDPDCGFSWPLPEFDPSQIRLIVYQDCERRGRNVLFDSSVKRRNEDI', 'MKQLEDKVEELLSKNYHLENEVARLKKLV']\n",
      "筛选后的标签： ['IIIIIIIIIIIIIIIIIIIIIIIIIIIIIIIIIIIIIIIIIIIIIIIIIIIIIIIIIIIIIIIIIIIIII', 'IIIIIIIIIIIIIIIIIIIIIIIIIIIIIIIIIIIIIIIIIIIIIIIIIIIIIIIIIIIIIIIIIIIIII']\n"
     ]
    }
   ],
   "source": [
    "def subset_dataset(\n",
    "    identifiers: List[str],\n",
    "    sequences: List[str],\n",
    "    labels: List[str],\n",
    "    partition_id: List[int],\n",
    "):\n",
    "    \"\"\"Extract a subset from the complete .fasta dataset based on partition_id\"\"\"\n",
    "\n",
    "    # break up the identifier into elements\n",
    "    parsed = [element.lstrip(\">\").split(\"|\") for element in identifiers]\n",
    "    acc_ids = [elements[0] for elements in parsed]\n",
    "    partition_ids = [int(elements[-1]) for elements in parsed]\n",
    "\n",
    "    partition_ids = np.array(partition_ids)\n",
    "\n",
    "    part_idx = np.isin(partition_ids, partition_id)\n",
    "\n",
    "    select_idx = part_idx\n",
    "    assert select_idx.sum() > 0, \"This partition id combination does not yield any sequences!\"\n",
    "\n",
    "    # index in numpy, and then return again as lists.\n",
    "    identifiers_out, sequences_out, labels_out = [\n",
    "        list(np.array(x)[select_idx]) for x in [identifiers, sequences, labels]\n",
    "    ]\n",
    "\n",
    "    return identifiers_out, sequences_out, labels_out\n",
    "\n",
    "# 示例测试代码\n",
    "identifiers = [\"Q8TF40|EUKARYA|NO_SP|0\", \"P12345|ARCHAEA|1\", \"A1B2C3|NEGATIVE|LIPO|2\"]\n",
    "sequences = [\"MAPTLFQKLFSKRTGLGAPGRDARDPDCGFSWPLPEFDPSQIRLIVYQDCERRGRNVLFDSSVKRRNEDI\",\n",
    "             \"MKQLEDKVEELLSKNYHLENEVARLKKLV\",\n",
    "             \"MKTIIALSYIFCLVFADYKDDDDK\"]\n",
    "labels = [\"IIIIIIIIIIIIIIIIIIIIIIIIIIIIIIIIIIIIIIIIIIIIIIIIIIIIIIIIIIIIIIIIIIIIII\",\n",
    "          \"IIIIIIIIIIIIIIIIIIIIIIIIIIIIIIIIIIIIIIIIIIIIIIIIIIIIIIIIIIIIIIIIIIIIII\",\n",
    "          \"IIIIIIIIIIIIIIIIIIIIIIIIIIIIIIIIIIIIIIIIIIIIIIIIIIIIIIIIIIIIIIIIIIIIII\"]\n",
    "\n",
    "partition_id = [0, 1]  # 选择分区 ID 为 0 和 1 的数据\n",
    "\n",
    "identifiers_out, sequences_out, labels_out = subset_dataset(identifiers, sequences, labels, partition_id)\n",
    "\n",
    "print(\"筛选后的标识符：\", identifiers_out)\n",
    "print(\"筛选后的序列：\", sequences_out)\n",
    "print(\"筛选后的标签：\", labels_out)\n"
   ],
   "metadata": {
    "collapsed": false,
    "ExecuteTime": {
     "end_time": "2024-07-24T08:36:20.172435800Z",
     "start_time": "2024-07-24T08:36:20.112436Z"
    }
   },
   "id": "325d159c29150a7f"
  },
  {
   "cell_type": "code",
   "execution_count": 10,
   "outputs": [
    {
     "name": "stdout",
     "output_type": "stream",
     "text": [
      "[ True False  True]\n"
     ]
    }
   ],
   "source": [
    "partition_ids = np.array([1, 4, 2])\n",
    "partition_id = [1, 2, 3]\n",
    "\n",
    "part_idx = np.isin(partition_ids, partition_id)\n",
    "print(part_idx)\n"
   ],
   "metadata": {
    "collapsed": false,
    "ExecuteTime": {
     "end_time": "2024-07-24T08:47:34.202492900Z",
     "start_time": "2024-07-24T08:47:34.176252100Z"
    }
   },
   "id": "30fb67327570d4a7"
  },
  {
   "cell_type": "code",
   "execution_count": null,
   "outputs": [],
   "source": [
    "import torch\n",
    "import numpy as np\n",
    "\n",
    "def run_data_array(model, sequence_data_array, batch_size=40):\n",
    "    \"\"\"run all the data of a np.array, concatenate and return outputs\"\"\"\n",
    "    device = torch.device(\"cuda\" if torch.cuda.is_available() else \"cpu\")\n",
    "    model.to(device)\n",
    "    model.eval()\n",
    "\n",
    "    all_global_probs = []\n",
    "    all_pos_preds = []\n",
    "\n",
    "    b_start = 0\n",
    "    b_end = batch_size\n",
    "    while b_start < len(sequence_data_array):\n",
    "\n",
    "        data = sequence_data_array[b_start:b_end, :]\n",
    "        data = torch.tensor(data, dtype=torch.float32)\n",
    "        data = data.to(device)\n",
    "        input_mask = torch.ones_like(data, dtype=torch.float32).to(device)\n",
    "        \n",
    "        with torch.no_grad():\n",
    "            global_probs, pos_probs, pos_preds = model(data, input_mask=input_mask)\n",
    "\n",
    "        all_global_probs.append(global_probs.detach().cpu().numpy())\n",
    "        all_pos_preds.append(pos_preds.detach().cpu().numpy())\n",
    "\n",
    "        b_start = b_start + batch_size\n",
    "        b_end = b_end + batch_size\n",
    "\n",
    "    all_global_probs = np.concatenate(all_global_probs)\n",
    "    all_pos_preds = np.concatenate(all_pos_preds)\n",
    "\n",
    "    return all_global_probs, all_pos_preds\n",
    "\n",
    "model = \n",
    "sequence_data_array = np.random.rand(100, 10)  # 示例数据\n",
    "\n",
    "# 运行函数\n",
    "# global_probs, pos_preds = run_data_array(model, sequence_data_array)\n",
    "# print(global_probs, pos_preds)"
   ],
   "metadata": {
    "collapsed": false
   },
   "id": "922032de8649ec5c"
  }
 ],
 "metadata": {
  "kernelspec": {
   "display_name": "Python 3",
   "language": "python",
   "name": "python3"
  },
  "language_info": {
   "codemirror_mode": {
    "name": "ipython",
    "version": 2
   },
   "file_extension": ".py",
   "mimetype": "text/x-python",
   "name": "python",
   "nbconvert_exporter": "python",
   "pygments_lexer": "ipython2",
   "version": "2.7.6"
  }
 },
 "nbformat": 4,
 "nbformat_minor": 5
}
